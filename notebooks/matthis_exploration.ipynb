{
 "cells": [
  {
   "cell_type": "code",
   "execution_count": 1,
   "id": "dc2bca31",
   "metadata": {},
   "outputs": [],
   "source": [
    "import sys\n",
    "import os\n",
    "\n",
    "sys.path.append(os.path.abspath('..'))"
   ]
  },
  {
   "cell_type": "code",
   "execution_count": 2,
   "id": "5d69d682",
   "metadata": {},
   "outputs": [],
   "source": [
    "# from pathlib import Path\n",
    "import pandas as pd\n",
    "from prepare_data.data_loader import load_data\n",
    "\n",
    "\n",
    "df, json_data = load_data('../data/raw/_annotations.coco.json')"
   ]
  },
  {
   "cell_type": "code",
   "execution_count": 3,
   "id": "2502c8b1",
   "metadata": {},
   "outputs": [
    {
     "name": "stdout",
     "output_type": "stream",
     "text": [
      "NUMBER OF IMAGES -> 500\n",
      "NUMBER OF ANNOTATIONS -> 959\n",
      "NUMBER OF CATEGORIES -> 2\n",
      "UNIQUE CATEGORY NAMES -> ['fire']\n",
      "DATES OF CAPTURE -> ['2025-09-14T12:06:19+00:00']\n",
      "\n",
      "HEIGHT VALUES -> MIN: 860, MAX: 860, AVG: 860.0\n",
      "WIDTH VALUES -> MIN: 1200, MAX: 1200, AVG: 1200.0\n",
      "-> All images are the same size.\n",
      "\n",
      "ANNOTATIONS PER IMAGE -> MIN: 1, MAX: 7, AVG: 1.99\n"
     ]
    }
   ],
   "source": [
    "def explore_data(df, json_data):\n",
    "    n_images = len(json_data['images'])\n",
    "    n_annotations = len(json_data['annotations'])\n",
    "    n_categories = len(json_data['categories'])\n",
    "    category_names = df['category_name'].unique()\n",
    "    capture_dates = df['date_captured'].unique()\n",
    "    heights = [image['height'] for image in json_data['images']]\n",
    "    widths = [image['width'] for image in json_data['images']]\n",
    "    annotations_per_image = df.groupby('image_id').size()\n",
    "\n",
    "    print(f'NUMBER OF IMAGES -> {n_images}')\n",
    "    print(f'NUMBER OF ANNOTATIONS -> {n_annotations}')\n",
    "    print(f'NUMBER OF CATEGORIES -> {n_categories}')\n",
    "    print(f'UNIQUE CATEGORY NAMES -> {category_names}')\n",
    "    print(f'DATES OF CAPTURE -> {capture_dates}')\n",
    "    print(\n",
    "        f'\\nHEIGHT VALUES -> MIN: {min(heights)}, MAX: {max(heights)}, AVG: {sum(heights) / len(heights)}'\n",
    "    )\n",
    "    print(\n",
    "        f'WIDTH VALUES -> MIN: {min(widths)}, MAX: {max(widths)}, AVG: {sum(widths) / len(widths)}'\n",
    "    )\n",
    "    if min(heights) == max(heights) and min(widths) == max(widths):\n",
    "        print('-> All images are the same size.')\n",
    "    print(\n",
    "        f'\\nANNOTATIONS PER IMAGE -> MIN: {min(annotations_per_image)}, MAX: {max(annotations_per_image)}, AVG: {annotations_per_image.mean():.2f}'\n",
    "    )\n",
    "\n",
    "\n",
    "explore_data(df, json_data)"
   ]
  },
  {
   "cell_type": "code",
   "execution_count": null,
   "id": "e2e77ec8",
   "metadata": {},
   "outputs": [],
   "source": []
  }
 ],
 "metadata": {
  "kernelspec": {
   "display_name": ".venv",
   "language": "python",
   "name": "python3"
  },
  "language_info": {
   "codemirror_mode": {
    "name": "ipython",
    "version": 3
   },
   "file_extension": ".py",
   "mimetype": "text/x-python",
   "name": "python",
   "nbconvert_exporter": "python",
   "pygments_lexer": "ipython3",
   "version": "3.12.11"
  }
 },
 "nbformat": 4,
 "nbformat_minor": 5
}
