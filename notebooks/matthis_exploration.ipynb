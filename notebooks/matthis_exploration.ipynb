{
 "cells": [
  {
   "cell_type": "code",
   "execution_count": 1,
   "id": "dc2bca31",
   "metadata": {},
   "outputs": [],
   "source": [
    "import sys\n",
    "import os\n",
    "\n",
    "sys.path.append(os.path.abspath('..'))"
   ]
  },
  {
   "cell_type": "code",
   "execution_count": 2,
   "id": "5d69d682",
   "metadata": {},
   "outputs": [],
   "source": [
    "# from pathlib import Path\n",
    "import pandas as pd\n",
    "from prepare_data.data_loader import load_data\n",
    "\n",
    "\n",
    "df, json_data = load_data('../data/raw/_annotations.coco.json')"
   ]
  },
  {
   "cell_type": "code",
   "execution_count": 3,
   "id": "2502c8b1",
   "metadata": {},
   "outputs": [
    {
     "name": "stdout",
     "output_type": "stream",
     "text": [
      "NUMBER OF IMAGES -> 500\n",
      "NUMBER OF BOXES -> 959\n",
      "NUMBER OF CATEGORIES -> 2\n",
      "HEIGHT VALUES -> MIN: 860, MAX: 860, AVG: 860.0\n",
      "WIDTH VALUES -> MIN: 1200, MAX: 1200, AVG: 1200.0\n"
     ]
    }
   ],
   "source": [
    "def explore_data(df):\n",
    "    n_images = len(json_data['images'])\n",
    "    n_boxes = len(json_data['annotations'])\n",
    "    n_categories = len(json_data['categories'])\n",
    "    heights = [image['height'] for image in json_data['images']]\n",
    "    widths = [image['width'] for image in json_data['images']]\n",
    "\n",
    "    print(f'NUMBER OF IMAGES -> {n_images}')\n",
    "    print(f'NUMBER OF BOXES -> {n_boxes}')\n",
    "    print(f'NUMBER OF CATEGORIES -> {n_categories}')\n",
    "    print(\n",
    "        f'HEIGHT VALUES -> MIN: {min(heights)}, MAX: {max(heights)}, AVG: {sum(heights) / len(heights)}'\n",
    "    )\n",
    "    print(\n",
    "        f'WIDTH VALUES -> MIN: {min(widths)}, MAX: {max(widths)}, AVG: {sum(widths) / len(widths)}'\n",
    "    )\n",
    "\n",
    "\n",
    "explore_data(df)"
   ]
  }
 ],
 "metadata": {
  "kernelspec": {
   "display_name": ".venv",
   "language": "python",
   "name": "python3"
  },
  "language_info": {
   "codemirror_mode": {
    "name": "ipython",
    "version": 3
   },
   "file_extension": ".py",
   "mimetype": "text/x-python",
   "name": "python",
   "nbconvert_exporter": "python",
   "pygments_lexer": "ipython3",
   "version": "3.12.11"
  }
 },
 "nbformat": 4,
 "nbformat_minor": 5
}
