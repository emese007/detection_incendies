{
 "cells": [
  {
   "cell_type": "code",
   "execution_count": 1,
   "id": "dc2bca31",
   "metadata": {},
   "outputs": [],
   "source": [
    "import sys\n",
    "import os\n",
    "\n",
    "sys.path.append(os.path.abspath('..'))"
   ]
  },
  {
   "cell_type": "code",
   "execution_count": 2,
   "id": "5d69d682",
   "metadata": {},
   "outputs": [
    {
     "data": {
      "text/html": [
       "<div>\n",
       "<style scoped>\n",
       "    .dataframe tbody tr th:only-of-type {\n",
       "        vertical-align: middle;\n",
       "    }\n",
       "\n",
       "    .dataframe tbody tr th {\n",
       "        vertical-align: top;\n",
       "    }\n",
       "\n",
       "    .dataframe thead th {\n",
       "        text-align: right;\n",
       "    }\n",
       "</style>\n",
       "<table border=\"1\" class=\"dataframe\">\n",
       "  <thead>\n",
       "    <tr style=\"text-align: right;\">\n",
       "      <th></th>\n",
       "      <th>category_id</th>\n",
       "      <th>category_name</th>\n",
       "      <th>supercategory</th>\n",
       "      <th>id</th>\n",
       "      <th>license</th>\n",
       "      <th>file_name</th>\n",
       "      <th>height</th>\n",
       "      <th>width</th>\n",
       "      <th>date_captured</th>\n",
       "      <th>extra.name</th>\n",
       "      <th>image_id</th>\n",
       "      <th>bbox</th>\n",
       "      <th>area</th>\n",
       "      <th>segmentation</th>\n",
       "      <th>iscrowd</th>\n",
       "    </tr>\n",
       "  </thead>\n",
       "  <tbody>\n",
       "    <tr>\n",
       "      <th>0</th>\n",
       "      <td>1</td>\n",
       "      <td>fire</td>\n",
       "      <td>wildfire</td>\n",
       "      <td>0</td>\n",
       "      <td>1</td>\n",
       "      <td>cl6e1qges001kgk555z158f33_2_FALSE_COLOR_jpg.rf...</td>\n",
       "      <td>860</td>\n",
       "      <td>1200</td>\n",
       "      <td>2025-09-14T12:06:19+00:00</td>\n",
       "      <td>cl6e1qges001kgk555z158f33_2_FALSE_COLOR.jpg</td>\n",
       "      <td>1</td>\n",
       "      <td>[277, 207, 568.95, 591.79]</td>\n",
       "      <td>336698.921</td>\n",
       "      <td>[]</td>\n",
       "      <td>0</td>\n",
       "    </tr>\n",
       "    <tr>\n",
       "      <th>1</th>\n",
       "      <td>1</td>\n",
       "      <td>fire</td>\n",
       "      <td>wildfire</td>\n",
       "      <td>1</td>\n",
       "      <td>1</td>\n",
       "      <td>cl6kgm9qr002yc455g5qs87kz_2_FALSE_COLOR_jpg.rf...</td>\n",
       "      <td>860</td>\n",
       "      <td>1200</td>\n",
       "      <td>2025-09-14T12:06:19+00:00</td>\n",
       "      <td>cl6kgm9qr002yc455g5qs87kz_2_FALSE_COLOR.jpg</td>\n",
       "      <td>2</td>\n",
       "      <td>[800, 0, 157.45, 413.38]</td>\n",
       "      <td>65086.681</td>\n",
       "      <td>[]</td>\n",
       "      <td>0</td>\n",
       "    </tr>\n",
       "    <tr>\n",
       "      <th>2</th>\n",
       "      <td>1</td>\n",
       "      <td>fire</td>\n",
       "      <td>wildfire</td>\n",
       "      <td>2</td>\n",
       "      <td>1</td>\n",
       "      <td>cl6odzs5e002oao55heuig0a6_1_TRUE_COLOR_jpg.rf....</td>\n",
       "      <td>860</td>\n",
       "      <td>1200</td>\n",
       "      <td>2025-09-14T12:06:19+00:00</td>\n",
       "      <td>cl6odzs5e002oao55heuig0a6_1_TRUE_COLOR.jpg</td>\n",
       "      <td>2</td>\n",
       "      <td>[1062, 96, 58.37, 63.91]</td>\n",
       "      <td>3730.427</td>\n",
       "      <td>[]</td>\n",
       "      <td>0</td>\n",
       "    </tr>\n",
       "    <tr>\n",
       "      <th>3</th>\n",
       "      <td>1</td>\n",
       "      <td>fire</td>\n",
       "      <td>wildfire</td>\n",
       "      <td>3</td>\n",
       "      <td>1</td>\n",
       "      <td>cl6b6pieh007rl455fwvb73gr_1_TRUE_COLOR_jpg.rf....</td>\n",
       "      <td>860</td>\n",
       "      <td>1200</td>\n",
       "      <td>2025-09-14T12:06:19+00:00</td>\n",
       "      <td>cl6b6pieh007rl455fwvb73gr_1_TRUE_COLOR.jpg</td>\n",
       "      <td>2</td>\n",
       "      <td>[452, 442, 410.09, 350.6]</td>\n",
       "      <td>143777.554</td>\n",
       "      <td>[]</td>\n",
       "      <td>0</td>\n",
       "    </tr>\n",
       "    <tr>\n",
       "      <th>4</th>\n",
       "      <td>1</td>\n",
       "      <td>fire</td>\n",
       "      <td>wildfire</td>\n",
       "      <td>4</td>\n",
       "      <td>1</td>\n",
       "      <td>cl6b5k38g003zl455bgtd1317_4_FALSE_COLOR__URBAN...</td>\n",
       "      <td>860</td>\n",
       "      <td>1200</td>\n",
       "      <td>2025-09-14T12:06:19+00:00</td>\n",
       "      <td>cl6b5k38g003zl455bgtd1317_4_FALSE_COLOR__URBAN...</td>\n",
       "      <td>2</td>\n",
       "      <td>[0, 163, 336.16, 375.08]</td>\n",
       "      <td>126086.893</td>\n",
       "      <td>[]</td>\n",
       "      <td>0</td>\n",
       "    </tr>\n",
       "  </tbody>\n",
       "</table>\n",
       "</div>"
      ],
      "text/plain": [
       "   category_id category_name supercategory  id  license  \\\n",
       "0            1          fire      wildfire   0        1   \n",
       "1            1          fire      wildfire   1        1   \n",
       "2            1          fire      wildfire   2        1   \n",
       "3            1          fire      wildfire   3        1   \n",
       "4            1          fire      wildfire   4        1   \n",
       "\n",
       "                                           file_name  height  width  \\\n",
       "0  cl6e1qges001kgk555z158f33_2_FALSE_COLOR_jpg.rf...     860   1200   \n",
       "1  cl6kgm9qr002yc455g5qs87kz_2_FALSE_COLOR_jpg.rf...     860   1200   \n",
       "2  cl6odzs5e002oao55heuig0a6_1_TRUE_COLOR_jpg.rf....     860   1200   \n",
       "3  cl6b6pieh007rl455fwvb73gr_1_TRUE_COLOR_jpg.rf....     860   1200   \n",
       "4  cl6b5k38g003zl455bgtd1317_4_FALSE_COLOR__URBAN...     860   1200   \n",
       "\n",
       "               date_captured  \\\n",
       "0  2025-09-14T12:06:19+00:00   \n",
       "1  2025-09-14T12:06:19+00:00   \n",
       "2  2025-09-14T12:06:19+00:00   \n",
       "3  2025-09-14T12:06:19+00:00   \n",
       "4  2025-09-14T12:06:19+00:00   \n",
       "\n",
       "                                          extra.name  image_id  \\\n",
       "0        cl6e1qges001kgk555z158f33_2_FALSE_COLOR.jpg         1   \n",
       "1        cl6kgm9qr002yc455g5qs87kz_2_FALSE_COLOR.jpg         2   \n",
       "2         cl6odzs5e002oao55heuig0a6_1_TRUE_COLOR.jpg         2   \n",
       "3         cl6b6pieh007rl455fwvb73gr_1_TRUE_COLOR.jpg         2   \n",
       "4  cl6b5k38g003zl455bgtd1317_4_FALSE_COLOR__URBAN...         2   \n",
       "\n",
       "                         bbox        area segmentation  iscrowd  \n",
       "0  [277, 207, 568.95, 591.79]  336698.921           []        0  \n",
       "1    [800, 0, 157.45, 413.38]   65086.681           []        0  \n",
       "2    [1062, 96, 58.37, 63.91]    3730.427           []        0  \n",
       "3   [452, 442, 410.09, 350.6]  143777.554           []        0  \n",
       "4    [0, 163, 336.16, 375.08]  126086.893           []        0  "
      ]
     },
     "execution_count": 2,
     "metadata": {},
     "output_type": "execute_result"
    }
   ],
   "source": [
    "# from pathlib import Path\n",
    "import pandas as pd\n",
    "from prepare_data.data_loader import load_data\n",
    "import matplotlib.pyplot as plt\n",
    "\n",
    "\n",
    "df, json_data = load_data('../data/raw/_annotations.coco.json')\n",
    "df.head()"
   ]
  },
  {
   "cell_type": "code",
   "execution_count": 3,
   "id": "2502c8b1",
   "metadata": {},
   "outputs": [
    {
     "name": "stdout",
     "output_type": "stream",
     "text": [
      "NUMBER OF IMAGES -> 500\n",
      "NUMBER OF ANNOTATIONS -> 959\n",
      "ANNOTATIONS PER IMAGE -> MIN: 1, MAX: 7, AVG: 1.99\n",
      "\n",
      "NUMBER OF CATEGORIES -> 2\n",
      "UNIQUE CATEGORY NAMES -> ['fire']\n",
      "\n",
      "HEIGHT VALUES -> MIN: 860, MAX: 860, AVG: 860.0\n",
      "WIDTH VALUES -> MIN: 1200, MAX: 1200, AVG: 1200.0\n",
      "-> All images are the same size.\n"
     ]
    }
   ],
   "source": [
    "def explore_data(df, json_data):\n",
    "    n_images = len(json_data['images'])\n",
    "    n_annotations = len(json_data['annotations'])\n",
    "    n_categories = len(json_data['categories'])\n",
    "    category_names = df['category_name'].unique()\n",
    "    images_height = [image['height'] for image in json_data['images']]\n",
    "    images_width = [image['width'] for image in json_data['images']]\n",
    "    annotations_per_image = df.groupby('image_id').size()\n",
    "\n",
    "    print(f'NUMBER OF IMAGES -> {n_images}')\n",
    "    print(f'NUMBER OF ANNOTATIONS -> {n_annotations}')\n",
    "    print(\n",
    "        f'ANNOTATIONS PER IMAGE -> MIN: {min(annotations_per_image)}, MAX: {max(annotations_per_image)}, AVG: {annotations_per_image.mean():.2f}'\n",
    "    )\n",
    "    print(f'\\nNUMBER OF CATEGORIES -> {n_categories}')\n",
    "    print(f'UNIQUE CATEGORY NAMES -> {category_names}')\n",
    "    print(\n",
    "        f'\\nHEIGHT VALUES -> MIN: {min(images_height)}, MAX: {max(images_height)}, AVG: {sum(images_height) / len(images_height)}'\n",
    "    )\n",
    "    print(\n",
    "        f'WIDTH VALUES -> MIN: {min(images_width)}, MAX: {max(images_width)}, AVG: {sum(images_width) / len(images_width)}'\n",
    "    )\n",
    "    if min(images_height) == max(images_height) and min(images_width) == max(\n",
    "        images_width\n",
    "    ):\n",
    "        print('-> All images are the same size.')\n",
    "\n",
    "\n",
    "explore_data(df, json_data)"
   ]
  },
  {
   "cell_type": "code",
   "execution_count": 4,
   "id": "0729ae9e",
   "metadata": {},
   "outputs": [
    {
     "name": "stdout",
     "output_type": "stream",
     "text": [
      "NUMBER OF IMAGES -> 500\n",
      "NUMBER OF ANNOTATIONS -> 959\n",
      "NUMBER OF CATEGORIES -> 2\n",
      "UNIQUE CATEGORY NAMES -> ['fire']\n"
     ]
    }
   ],
   "source": [
    "def get_basic_informations(json_data):\n",
    "    n_images = len(json_data['images'])\n",
    "    n_annotations = len(json_data['annotations'])\n",
    "    n_categories = len(json_data['categories'])\n",
    "    category_names = df['category_name'].unique()\n",
    "    print(f'NUMBER OF IMAGES -> {n_images}')\n",
    "    print(f'NUMBER OF ANNOTATIONS -> {n_annotations}')\n",
    "    print(f'NUMBER OF CATEGORIES -> {n_categories}')\n",
    "    print(f'UNIQUE CATEGORY NAMES -> {category_names}')\n",
    "\n",
    "\n",
    "get_basic_informations(json_data)"
   ]
  },
  {
   "cell_type": "code",
   "execution_count": 5,
   "id": "e60639a1",
   "metadata": {},
   "outputs": [
    {
     "name": "stdout",
     "output_type": "stream",
     "text": [
      "ANNOTATIONS PER IMAGE -> MIN: 1, MAX: 7, AVG: 1.99\n"
     ]
    },
    {
     "data": {
      "image/png": "[encoded data removed]",
      "text/plain": [
       "<Figure size 640x480 with 1 Axes>"
      ]
     },
     "metadata": {},
     "output_type": "display_data"
    }
   ],
   "source": [
    "def get_annotations_per_image(df):\n",
    "    annotations_per_image = df.groupby('image_id').size()\n",
    "    print(\n",
    "        f'ANNOTATIONS PER IMAGE -> MIN: {min(annotations_per_image)}, MAX: {max(annotations_per_image)}, AVG: {annotations_per_image.mean():.2f}'\n",
    "    )\n",
    "    annotations_per_image.hist(bins='auto')\n",
    "    plt.title('Number of annotations per image')\n",
    "    plt.xlabel('Number of annotations')\n",
    "    plt.ylabel('Number of images')\n",
    "    plt.show()\n",
    "\n",
    "\n",
    "get_annotations_per_image(df)"
   ]
  },
  {
   "cell_type": "code",
   "execution_count": 6,
   "id": "50692cc2",
   "metadata": {},
   "outputs": [
    {
     "data": {
      "text/plain": [
       "category_name\n",
       "fire    [1, 2, 3, 4, 5, 6, 7, 8, 9, 10, 11, 12, 13, 14...\n",
       "Name: image_id, dtype: object"
      ]
     },
     "metadata": {},
     "output_type": "display_data"
    },
    {
     "name": "stdout",
     "output_type": "stream",
     "text": [
      "NUMBER OF IMAGES PER CATEGORY:\n",
      "category_name\n",
      "fire    251\n",
      "Name: image_id, dtype: int64\n"
     ]
    }
   ],
   "source": [
    "def get_n_images_per_category(df):\n",
    "    images_per_category = df.groupby('category_name')['image_id'].nunique()\n",
    "    display(df.groupby('category_name')['image_id'].unique().head(20))\n",
    "    print(f'NUMBER OF IMAGES PER CATEGORY:\\n{images_per_category}')\n",
    "\n",
    "\n",
    "get_n_images_per_category(df)"
   ]
  },
  {
   "cell_type": "code",
   "execution_count": 7,
   "id": "f00bf63a",
   "metadata": {},
   "outputs": [
    {
     "name": "stdout",
     "output_type": "stream",
     "text": [
      "IMAGE WIDTH -> MIN: 1200, MAX: 1200, AVG: 1200.0\n",
      "IMAGE HEIGHT -> MIN: 860, MAX: 860, AVG: 860.0\n",
      "-> All images are the same size.\n",
      "\n",
      "BBOX WIDTH -> MIN: 0.19, MAX: 1200.00, AVG: 265.89\n",
      "BBOX HEIGHT -> MIN: 1.09, MAX: 860.00, AVG: 248.97\n",
      "BBOX AREA -> MIN: 0.21, MAX: 1032000.00, AVG: 103125.55\n"
     ]
    },
    {
     "data": {
      "image/png": "[encoded data removed]",
      "text/plain": [
       "<Figure size 640x480 with 1 Axes>"
      ]
     },
     "metadata": {},
     "output_type": "display_data"
    }
   ],
   "source": [
    "def get_bbox_images_size(df):\n",
    "    images_width = [image['width'] for image in json_data['images']]\n",
    "    images_height = [image['height'] for image in json_data['images']]\n",
    "    bboxes_width = df['bbox'].apply(lambda x: x[2])\n",
    "    bboxes_height = df['bbox'].apply(lambda x: x[3])\n",
    "    print(\n",
    "        f'IMAGE WIDTH -> MIN: {min(images_width)}, MAX: {max(images_width)}, AVG: {sum(images_width) / len(images_width)}'\n",
    "    )\n",
    "    print(\n",
    "        f'IMAGE HEIGHT -> MIN: {min(images_height)}, MAX: {max(images_height)}, AVG: {sum(images_height) / len(images_height)}'\n",
    "    )\n",
    "    if min(images_height) == max(images_height) and min(images_width) == max(\n",
    "        images_width\n",
    "    ):\n",
    "        print('-> All images are the same size.')\n",
    "    print(\n",
    "        f'\\nBBOX WIDTH -> MIN: {bboxes_width.min():.2f}, MAX: {bboxes_width.max():.2f}, AVG: {bboxes_width.mean():.2f}'\n",
    "    )\n",
    "    print(\n",
    "        f'BBOX HEIGHT -> MIN: {bboxes_height.min():.2f}, MAX: {bboxes_height.max():.2f}, AVG: {bboxes_height.mean():.2f}'\n",
    "    )\n",
    "    print(\n",
    "        f'BBOX AREA -> MIN: {df[\"area\"].min():.2f}, MAX: {df[\"area\"].max():.2f}, AVG: {df[\"area\"].mean():.2f}'\n",
    "    )\n",
    "    df['area'].hist(bins='auto')\n",
    "    plt.title('Distribution of bbox areas')\n",
    "    plt.xlabel('Area (pixels)')\n",
    "    plt.ylabel('Number of bboxes')\n",
    "    plt.show()\n",
    "\n",
    "\n",
    "get_bbox_images_size(df)"
   ]
  },
  {
   "cell_type": "code",
   "execution_count": null,
   "id": "989f4a2e",
   "metadata": {},
   "outputs": [],
   "source": []
  }
 ],
 "metadata": {
  "kernelspec": {
   "display_name": ".venv",
   "language": "python",
   "name": "python3"
  },
  "language_info": {
   "codemirror_mode": {
    "name": "ipython",
    "version": 3
   },
   "file_extension": ".py",
   "mimetype": "text/x-python",
   "name": "python",
   "nbconvert_exporter": "python",
   "pygments_lexer": "ipython3",
   "version": "3.12.11"
  }
 },
 "nbformat": 4,
 "nbformat_minor": 5
}
