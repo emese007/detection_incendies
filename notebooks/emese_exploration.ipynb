{
 "cells": [
  {
   "cell_type": "code",
   "execution_count": 47,
   "id": "7bcee12c",
   "metadata": {},
   "outputs": [],
   "source": [
    "import sys\n",
    "import os\n",
    "sys.path.append(os.path.abspath(\"..\"))"
   ]
  },
  {
   "cell_type": "code",
   "execution_count": 48,
   "id": "4bc05962",
   "metadata": {},
   "outputs": [
    {
     "name": "stdout",
     "output_type": "stream",
     "text": [
      "   id  license                                          file_name  height  \\\n",
      "0   0        1  cl6e1qges001kgk555z158f33_2_FALSE_COLOR_jpg.rf...     860   \n",
      "1   1        1  cl6kgm9qr002yc455g5qs87kz_2_FALSE_COLOR_jpg.rf...     860   \n",
      "2   2        1  cl6odzs5e002oao55heuig0a6_1_TRUE_COLOR_jpg.rf....     860   \n",
      "3   3        1  cl6b6pieh007rl455fwvb73gr_1_TRUE_COLOR_jpg.rf....     860   \n",
      "4   4        1  cl6b5k38g003zl455bgtd1317_4_FALSE_COLOR__URBAN...     860   \n",
      "\n",
      "   width              date_captured  \\\n",
      "0   1200  2025-09-14T12:06:19+00:00   \n",
      "1   1200  2025-09-14T12:06:19+00:00   \n",
      "2   1200  2025-09-14T12:06:19+00:00   \n",
      "3   1200  2025-09-14T12:06:19+00:00   \n",
      "4   1200  2025-09-14T12:06:19+00:00   \n",
      "\n",
      "                                          extra.name  image_id  category_id  \\\n",
      "0        cl6e1qges001kgk555z158f33_2_FALSE_COLOR.jpg         1            1   \n",
      "1        cl6kgm9qr002yc455g5qs87kz_2_FALSE_COLOR.jpg         2            1   \n",
      "2         cl6odzs5e002oao55heuig0a6_1_TRUE_COLOR.jpg         2            1   \n",
      "3         cl6b6pieh007rl455fwvb73gr_1_TRUE_COLOR.jpg         2            1   \n",
      "4  cl6b5k38g003zl455bgtd1317_4_FALSE_COLOR__URBAN...         2            1   \n",
      "\n",
      "                         bbox        area segmentation  iscrowd  \n",
      "0  [277, 207, 568.95, 591.79]  336698.921           []        0  \n",
      "1    [800, 0, 157.45, 413.38]   65086.681           []        0  \n",
      "2    [1062, 96, 58.37, 63.91]    3730.427           []        0  \n",
      "3   [452, 442, 410.09, 350.6]  143777.554           []        0  \n",
      "4    [0, 163, 336.16, 375.08]  126086.893           []        0  \n"
     ]
    }
   ],
   "source": [
    "import pandas as pd\n",
    "from prepare_data.data_loader import load_data\n",
    "\n",
    "df = load_data(\"../data/raw/_annotations.coco.json\")\n",
    "print(df.head())\n"
   ]
  },
  {
   "cell_type": "code",
   "execution_count": 49,
   "id": "fb71c1d7",
   "metadata": {},
   "outputs": [],
   "source": [
    "#print(df)"
   ]
  },
  {
   "cell_type": "code",
   "execution_count": 50,
   "id": "0ba46d94",
   "metadata": {},
   "outputs": [
    {
     "data": {
      "application/vnd.microsoft.datawrangler.viewer.v0+json": {
       "columns": [
        {
         "name": "index",
         "rawType": "object",
         "type": "string"
        },
        {
         "name": "id",
         "rawType": "float64",
         "type": "float"
        },
        {
         "name": "license",
         "rawType": "float64",
         "type": "float"
        },
        {
         "name": "height",
         "rawType": "float64",
         "type": "float"
        },
        {
         "name": "width",
         "rawType": "float64",
         "type": "float"
        },
        {
         "name": "image_id",
         "rawType": "float64",
         "type": "float"
        },
        {
         "name": "category_id",
         "rawType": "float64",
         "type": "float"
        },
        {
         "name": "area",
         "rawType": "float64",
         "type": "float"
        },
        {
         "name": "iscrowd",
         "rawType": "float64",
         "type": "float"
        }
       ],
       "ref": "6d6e464d-31e7-4403-bc6b-b281302a63f0",
       "rows": [
        [
         "count",
         "500.0",
         "500.0",
         "500.0",
         "500.0",
         "500.0",
         "500.0",
         "500.0",
         "500.0"
        ],
        [
         "mean",
         "249.5",
         "1.0",
         "860.0",
         "1200.0",
         "129.628",
         "1.0",
         "103125.545204",
         "0.0"
        ],
        [
         "std",
         "144.4818327679989",
         "0.0",
         "0.0",
         "0.0",
         "76.0028847675269",
         "0.0",
         "169801.59523676452",
         "0.0"
        ],
        [
         "min",
         "0.0",
         "1.0",
         "860.0",
         "1200.0",
         "1.0",
         "1.0",
         "0.207",
         "0.0"
        ],
        [
         "25%",
         "124.75",
         "1.0",
         "860.0",
         "1200.0",
         "62.0",
         "1.0",
         "10297.72125",
         "0.0"
        ],
        [
         "50%",
         "249.5",
         "1.0",
         "860.0",
         "1200.0",
         "130.0",
         "1.0",
         "36706.7895",
         "0.0"
        ],
        [
         "75%",
         "374.25",
         "1.0",
         "860.0",
         "1200.0",
         "198.0",
         "1.0",
         "111763.66775",
         "0.0"
        ],
        [
         "max",
         "499.0",
         "1.0",
         "860.0",
         "1200.0",
         "255.0",
         "1.0",
         "1032000.0",
         "0.0"
        ]
       ],
       "shape": {
        "columns": 8,
        "rows": 8
       }
      },
      "text/html": [
       "<div>\n",
       "<style scoped>\n",
       "    .dataframe tbody tr th:only-of-type {\n",
       "        vertical-align: middle;\n",
       "    }\n",
       "\n",
       "    .dataframe tbody tr th {\n",
       "        vertical-align: top;\n",
       "    }\n",
       "\n",
       "    .dataframe thead th {\n",
       "        text-align: right;\n",
       "    }\n",
       "</style>\n",
       "<table border=\"1\" class=\"dataframe\">\n",
       "  <thead>\n",
       "    <tr style=\"text-align: right;\">\n",
       "      <th></th>\n",
       "      <th>id</th>\n",
       "      <th>license</th>\n",
       "      <th>height</th>\n",
       "      <th>width</th>\n",
       "      <th>image_id</th>\n",
       "      <th>category_id</th>\n",
       "      <th>area</th>\n",
       "      <th>iscrowd</th>\n",
       "    </tr>\n",
       "  </thead>\n",
       "  <tbody>\n",
       "    <tr>\n",
       "      <th>count</th>\n",
       "      <td>500.000000</td>\n",
       "      <td>500.0</td>\n",
       "      <td>500.0</td>\n",
       "      <td>500.0</td>\n",
       "      <td>500.000000</td>\n",
       "      <td>500.0</td>\n",
       "      <td>5.000000e+02</td>\n",
       "      <td>500.0</td>\n",
       "    </tr>\n",
       "    <tr>\n",
       "      <th>mean</th>\n",
       "      <td>249.500000</td>\n",
       "      <td>1.0</td>\n",
       "      <td>860.0</td>\n",
       "      <td>1200.0</td>\n",
       "      <td>129.628000</td>\n",
       "      <td>1.0</td>\n",
       "      <td>1.031255e+05</td>\n",
       "      <td>0.0</td>\n",
       "    </tr>\n",
       "    <tr>\n",
       "      <th>std</th>\n",
       "      <td>144.481833</td>\n",
       "      <td>0.0</td>\n",
       "      <td>0.0</td>\n",
       "      <td>0.0</td>\n",
       "      <td>76.002885</td>\n",
       "      <td>0.0</td>\n",
       "      <td>1.698016e+05</td>\n",
       "      <td>0.0</td>\n",
       "    </tr>\n",
       "    <tr>\n",
       "      <th>min</th>\n",
       "      <td>0.000000</td>\n",
       "      <td>1.0</td>\n",
       "      <td>860.0</td>\n",
       "      <td>1200.0</td>\n",
       "      <td>1.000000</td>\n",
       "      <td>1.0</td>\n",
       "      <td>2.070000e-01</td>\n",
       "      <td>0.0</td>\n",
       "    </tr>\n",
       "    <tr>\n",
       "      <th>25%</th>\n",
       "      <td>124.750000</td>\n",
       "      <td>1.0</td>\n",
       "      <td>860.0</td>\n",
       "      <td>1200.0</td>\n",
       "      <td>62.000000</td>\n",
       "      <td>1.0</td>\n",
       "      <td>1.029772e+04</td>\n",
       "      <td>0.0</td>\n",
       "    </tr>\n",
       "    <tr>\n",
       "      <th>50%</th>\n",
       "      <td>249.500000</td>\n",
       "      <td>1.0</td>\n",
       "      <td>860.0</td>\n",
       "      <td>1200.0</td>\n",
       "      <td>130.000000</td>\n",
       "      <td>1.0</td>\n",
       "      <td>3.670679e+04</td>\n",
       "      <td>0.0</td>\n",
       "    </tr>\n",
       "    <tr>\n",
       "      <th>75%</th>\n",
       "      <td>374.250000</td>\n",
       "      <td>1.0</td>\n",
       "      <td>860.0</td>\n",
       "      <td>1200.0</td>\n",
       "      <td>198.000000</td>\n",
       "      <td>1.0</td>\n",
       "      <td>1.117637e+05</td>\n",
       "      <td>0.0</td>\n",
       "    </tr>\n",
       "    <tr>\n",
       "      <th>max</th>\n",
       "      <td>499.000000</td>\n",
       "      <td>1.0</td>\n",
       "      <td>860.0</td>\n",
       "      <td>1200.0</td>\n",
       "      <td>255.000000</td>\n",
       "      <td>1.0</td>\n",
       "      <td>1.032000e+06</td>\n",
       "      <td>0.0</td>\n",
       "    </tr>\n",
       "  </tbody>\n",
       "</table>\n",
       "</div>"
      ],
      "text/plain": [
       "               id  license  height   width    image_id  category_id  \\\n",
       "count  500.000000    500.0   500.0   500.0  500.000000        500.0   \n",
       "mean   249.500000      1.0   860.0  1200.0  129.628000          1.0   \n",
       "std    144.481833      0.0     0.0     0.0   76.002885          0.0   \n",
       "min      0.000000      1.0   860.0  1200.0    1.000000          1.0   \n",
       "25%    124.750000      1.0   860.0  1200.0   62.000000          1.0   \n",
       "50%    249.500000      1.0   860.0  1200.0  130.000000          1.0   \n",
       "75%    374.250000      1.0   860.0  1200.0  198.000000          1.0   \n",
       "max    499.000000      1.0   860.0  1200.0  255.000000          1.0   \n",
       "\n",
       "               area  iscrowd  \n",
       "count  5.000000e+02    500.0  \n",
       "mean   1.031255e+05      0.0  \n",
       "std    1.698016e+05      0.0  \n",
       "min    2.070000e-01      0.0  \n",
       "25%    1.029772e+04      0.0  \n",
       "50%    3.670679e+04      0.0  \n",
       "75%    1.117637e+05      0.0  \n",
       "max    1.032000e+06      0.0  "
      ]
     },
     "execution_count": 50,
     "metadata": {},
     "output_type": "execute_result"
    }
   ],
   "source": [
    "df.describe()"
   ]
  },
  {
   "cell_type": "code",
   "execution_count": 51,
   "id": "4a126ed5",
   "metadata": {},
   "outputs": [
    {
     "name": "stdout",
     "output_type": "stream",
     "text": [
      "<class 'pandas.core.frame.DataFrame'>\n",
      "RangeIndex: 500 entries, 0 to 499\n",
      "Data columns (total 13 columns):\n",
      " #   Column         Non-Null Count  Dtype  \n",
      "---  ------         --------------  -----  \n",
      " 0   id             500 non-null    int64  \n",
      " 1   license        500 non-null    int64  \n",
      " 2   file_name      500 non-null    object \n",
      " 3   height         500 non-null    int64  \n",
      " 4   width          500 non-null    int64  \n",
      " 5   date_captured  500 non-null    object \n",
      " 6   extra.name     500 non-null    object \n",
      " 7   image_id       500 non-null    int64  \n",
      " 8   category_id    500 non-null    int64  \n",
      " 9   bbox           500 non-null    object \n",
      " 10  area           500 non-null    float64\n",
      " 11  segmentation   500 non-null    object \n",
      " 12  iscrowd        500 non-null    int64  \n",
      "dtypes: float64(1), int64(7), object(5)\n",
      "memory usage: 50.9+ KB\n"
     ]
    }
   ],
   "source": [
    "df.info()"
   ]
  },
  {
   "cell_type": "code",
   "execution_count": 52,
   "id": "badc3c55",
   "metadata": {},
   "outputs": [
    {
     "name": "stdout",
     "output_type": "stream",
     "text": [
      "id               0\n",
      "license          0\n",
      "file_name        0\n",
      "height           0\n",
      "width            0\n",
      "date_captured    0\n",
      "extra.name       0\n",
      "image_id         0\n",
      "category_id      0\n",
      "bbox             0\n",
      "area             0\n",
      "segmentation     0\n",
      "iscrowd          0\n",
      "dtype: int64\n"
     ]
    }
   ],
   "source": [
    "compte_par_colonne = df.isnull().sum()\n",
    "print(compte_par_colonne)"
   ]
  },
  {
   "cell_type": "code",
   "execution_count": 53,
   "id": "a3717a2b",
   "metadata": {},
   "outputs": [
    {
     "ename": "ValueError",
     "evalue": "too many values to unpack (expected 5)",
     "output_type": "error",
     "traceback": [
      "\u001b[31m---------------------------------------------------------------------------\u001b[39m",
      "\u001b[31mValueError\u001b[39m                                Traceback (most recent call last)",
      "\u001b[36mCell\u001b[39m\u001b[36m \u001b[39m\u001b[32mIn[53]\u001b[39m\u001b[32m, line 6\u001b[39m\n\u001b[32m      2\u001b[39m \u001b[38;5;28;01mimport\u001b[39;00m\u001b[38;5;250m \u001b[39m\u001b[34;01mpandas\u001b[39;00m\u001b[38;5;250m \u001b[39m\u001b[38;5;28;01mas\u001b[39;00m\u001b[38;5;250m \u001b[39m\u001b[34;01mpd\u001b[39;00m\n\u001b[32m      4\u001b[39m \u001b[38;5;28;01mfrom\u001b[39;00m\u001b[38;5;250m \u001b[39m\u001b[34;01mprepare_data\u001b[39;00m\u001b[34;01m.\u001b[39;00m\u001b[34;01mdata_loader\u001b[39;00m\u001b[38;5;250m \u001b[39m\u001b[38;5;28;01mimport\u001b[39;00m load_data\n\u001b[32m----> \u001b[39m\u001b[32m6\u001b[39m df_images, df_annotations, df_categories, df_merged, json_data = load_data(\u001b[33m\"\u001b[39m\u001b[33m../data/raw/_annotations.coco.json\u001b[39m\u001b[33m\"\u001b[39m)\n\u001b[32m      8\u001b[39m \u001b[38;5;66;03m#Nombre total d’image\u001b[39;00m\n\u001b[32m      9\u001b[39m \u001b[38;5;66;03m#Nombre total d’annotations\u001b[39;00m\n\u001b[32m     11\u001b[39m n_images = \u001b[38;5;28mlen\u001b[39m(df_images)\n",
      "\u001b[31mValueError\u001b[39m: too many values to unpack (expected 5)"
     ]
    }
   ],
   "source": [
    "import json\n",
    "import pandas as pd\n",
    "\n",
    "from prepare_data.data_loader import load_data\n",
    "\n",
    "df_images, df_annotations, df_categories, df_merged, json_data = load_data(\"../data/raw/_annotations.coco.json\")\n",
    "\n",
    "#Nombre total d’image\n",
    "#Nombre total d’annotations\n",
    "\n",
    "n_images = len(df_images)\n",
    "n_annotations = len(df_annotations)\n",
    "print(f\"Nombre total d'images : {n_images}\")\n",
    "print(f\"Nombre total d'annotations : {n_annotations}\")\n",
    "\n",
    "#Quelles sont les catégories ?\n",
    "\n",
    "\n",
    "#Nombre d’image par catégories\n",
    "\n",
    "\n",
    "#Des statistiques sur le nombre d’annotation par image\n",
    "\n"
   ]
  }
 ],
 "metadata": {
  "kernelspec": {
   "display_name": "detection-incendies (3.12.3)",
   "language": "python",
   "name": "python3"
  },
  "language_info": {
   "codemirror_mode": {
    "name": "ipython",
    "version": 3
   },
   "file_extension": ".py",
   "mimetype": "text/x-python",
   "name": "python",
   "nbconvert_exporter": "python",
   "pygments_lexer": "ipython3",
   "version": "3.12.3"
  }
 },
 "nbformat": 4,
 "nbformat_minor": 5
}
